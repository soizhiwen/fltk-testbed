{
 "cells": [
  {
   "cell_type": "markdown",
   "metadata": {},
   "source": [
    "- A: CPU\n",
    "- B: Memory\n",
    "- C: Network\n",
    "- D: Epochs\n",
    "\n",
    "|         | -               | +                  |\n",
    "| ------- | :-------------: | :----------------: |\n",
    "| CPU     | 750m            | 1500m              |\n",
    "| Memory  | 1.5Gi           | 3Gi                |\n",
    "| Network | FashionMNISTCNN | FashionMNISTResNet |\n",
    "| Epochs  | 5               | 10                 |\n",
    "\n",
    "$2^{4-1}$ Experimental Design\n",
    "\n",
    "| Run    | I     | A     | B      |C     |D     |\n",
    "| :----: | :---: | :---: | :----: |:---: |:---: |\n",
    "| 1 (11) | +     | -     | -      | -    | -    |\n",
    "| 2 (12) | +     | +     | -      | -    | +    |\n",
    "| 3 (13) | +     | -     | +      | -    | +    |\n",
    "| 4 (14) | +     | +     | +      | -    | -    |\n",
    "| 5 (15) | +     | -     | -      | +    | +    |\n",
    "| 6 (16) | +     | +     | -      | +    | -    |\n",
    "| 7 (17) | +     | -     | +      | +    | -    |\n",
    "| 8 (18) | +     | +     | +      | +    | +    |\n",
    "\n",
    "$I=ABCD$, Resolution $IV$\n"
   ]
  },
  {
   "cell_type": "code",
   "execution_count": 159,
   "metadata": {},
   "outputs": [],
   "source": [
    "import os\n",
    "import numpy as np\n",
    "import pandas as pd\n",
    "\n",
    "from tbparse import SummaryReader\n",
    "import statsmodels.api as sm\n",
    "from statsmodels.formula.api import ols\n",
    "from pyDOE2 import *\n",
    "\n",
    "LOG_DIR = \"/home/engineer/fltk-testbed/logging\"\n",
    "EXP_NAME = \"exp_11\"\n",
    "FACTORS = [\"cpu\", \"memory\", \"network\", \"epochs\"]\n",
    "LEVELS = [\n",
    "    [\"750m\", \"1500m\"],\n",
    "    [\"1.5Gi\", \"3Gi\"],\n",
    "    [\"FashionMNISTCNN\", \"FashionMNISTResNet\"],\n",
    "    [\"5\", \"10\"],\n",
    "]"
   ]
  },
  {
   "cell_type": "code",
   "execution_count": 160,
   "metadata": {},
   "outputs": [
    {
     "data": {
      "text/plain": [
       "array([[-1., -1., -1., -1.],\n",
       "       [ 1., -1., -1.,  1.],\n",
       "       [-1.,  1., -1.,  1.],\n",
       "       [ 1.,  1., -1., -1.],\n",
       "       [-1., -1.,  1.,  1.],\n",
       "       [ 1., -1.,  1., -1.],\n",
       "       [-1.,  1.,  1., -1.],\n",
       "       [ 1.,  1.,  1.,  1.]])"
      ]
     },
     "execution_count": 160,
     "metadata": {},
     "output_type": "execute_result"
    }
   ],
   "source": [
    "doe = fracfact(\"A B C AB AC BC ABC\")\n",
    "doe = doe[:, [0, 1, 2, -1]]\n",
    "doe"
   ]
  },
  {
   "cell_type": "code",
   "execution_count": 186,
   "metadata": {},
   "outputs": [
    {
     "data": {
      "text/plain": [
       "array([['750m', '1.5Gi', 'FashionMNISTCNN', '5'],\n",
       "       ['750m', '1.5Gi', 'FashionMNISTCNN', '5'],\n",
       "       ['750m', '1.5Gi', 'FashionMNISTCNN', '5'],\n",
       "       ['750m', '1.5Gi', 'FashionMNISTCNN', '5'],\n",
       "       ['1500m', '1.5Gi', 'FashionMNISTCNN', '10'],\n",
       "       ['1500m', '1.5Gi', 'FashionMNISTCNN', '10'],\n",
       "       ['1500m', '1.5Gi', 'FashionMNISTCNN', '10'],\n",
       "       ['1500m', '1.5Gi', 'FashionMNISTCNN', '10'],\n",
       "       ['750m', '3Gi', 'FashionMNISTCNN', '10'],\n",
       "       ['750m', '3Gi', 'FashionMNISTCNN', '10'],\n",
       "       ['750m', '3Gi', 'FashionMNISTCNN', '10'],\n",
       "       ['750m', '3Gi', 'FashionMNISTCNN', '10'],\n",
       "       ['1500m', '3Gi', 'FashionMNISTCNN', '5'],\n",
       "       ['1500m', '3Gi', 'FashionMNISTCNN', '5'],\n",
       "       ['1500m', '3Gi', 'FashionMNISTCNN', '5'],\n",
       "       ['1500m', '3Gi', 'FashionMNISTCNN', '5'],\n",
       "       ['750m', '1.5Gi', 'FashionMNISTResNet', '10'],\n",
       "       ['750m', '1.5Gi', 'FashionMNISTResNet', '10'],\n",
       "       ['750m', '1.5Gi', 'FashionMNISTResNet', '10'],\n",
       "       ['750m', '1.5Gi', 'FashionMNISTResNet', '10'],\n",
       "       ['1500m', '1.5Gi', 'FashionMNISTResNet', '5'],\n",
       "       ['1500m', '1.5Gi', 'FashionMNISTResNet', '5'],\n",
       "       ['1500m', '1.5Gi', 'FashionMNISTResNet', '5'],\n",
       "       ['1500m', '1.5Gi', 'FashionMNISTResNet', '5'],\n",
       "       ['750m', '3Gi', 'FashionMNISTResNet', '5'],\n",
       "       ['750m', '3Gi', 'FashionMNISTResNet', '5'],\n",
       "       ['750m', '3Gi', 'FashionMNISTResNet', '5'],\n",
       "       ['750m', '3Gi', 'FashionMNISTResNet', '5'],\n",
       "       ['1500m', '3Gi', 'FashionMNISTResNet', '10'],\n",
       "       ['1500m', '3Gi', 'FashionMNISTResNet', '10'],\n",
       "       ['1500m', '3Gi', 'FashionMNISTResNet', '10'],\n",
       "       ['1500m', '3Gi', 'FashionMNISTResNet', '10']], dtype='<U18')"
      ]
     },
     "execution_count": 186,
     "metadata": {},
     "output_type": "execute_result"
    }
   ],
   "source": [
    "combinations = []\n",
    "for run in doe:\n",
    "    combination = []\n",
    "    for i, level in enumerate(LEVELS):\n",
    "        if run[i] == 1:\n",
    "            combination.append(level[1])\n",
    "        else:\n",
    "            combination.append(level[0])\n",
    "    combinations.append(combination)\n",
    "\n",
    "combinations = np.repeat(combinations, 4, axis=0)\n",
    "combinations"
   ]
  },
  {
   "cell_type": "code",
   "execution_count": 195,
   "metadata": {},
   "outputs": [
    {
     "name": "stdout",
     "output_type": "stream",
     "text": [
      "Directory not found\n",
      "Directory not found\n",
      "Directory not found\n",
      "Directory not found\n"
     ]
    },
    {
     "data": {
      "text/plain": [
       "[[89.27999877929688, 88.73999786376953, 89.22000122070312, 88.81999969482422],\n",
       " [89.22000122070312, 88.73999786376953, 89.12000274658203, 88.9000015258789],\n",
       " [89.0199966430664, 88.68000030517578, 89.66000366210938, 89.16000366210938],\n",
       " [89.04000091552734, 88.77999877929688, 88.94000244140625, 89.05999755859375]]"
      ]
     },
     "execution_count": 195,
     "metadata": {},
     "output_type": "execute_result"
    }
   ],
   "source": [
    "accuracies = []\n",
    "for i in range(11, 19):\n",
    "    try:\n",
    "        path = f\"{LOG_DIR}/exp_{i}/train_job_0\"\n",
    "        reader = SummaryReader(path, pivot=True)\n",
    "        df = reader.scalars\n",
    "        accuracies.append(df[\"accuracy per epoch\"][-1:].values[0])\n",
    "    except:\n",
    "        print(\"Directory not found\")\n",
    "accuracies"
   ]
  },
  {
   "cell_type": "code",
   "execution_count": 217,
   "metadata": {},
   "outputs": [
    {
     "data": {
      "text/plain": [
       "array([['750m', '1.5Gi', 'FashionMNISTCNN', '5', '89.27999877929688'],\n",
       "       ['750m', '1.5Gi', 'FashionMNISTCNN', '5', '88.73999786376953'],\n",
       "       ['750m', '1.5Gi', 'FashionMNISTCNN', '5', '89.22000122070312'],\n",
       "       ['750m', '1.5Gi', 'FashionMNISTCNN', '5', '88.81999969482422']],\n",
       "      dtype='<U32')"
      ]
     },
     "execution_count": 217,
     "metadata": {},
     "output_type": "execute_result"
    }
   ],
   "source": [
    "np.append(combinations[:4], np.array(accuracies[0]).reshape(4, 1), axis=1)"
   ]
  },
  {
   "cell_type": "code",
   "execution_count": 163,
   "metadata": {},
   "outputs": [],
   "source": [
    "\n",
    "\n",
    "code_size = [3.8455, 3.8191, 3.8634, 3.5061, 3.4598, 3.5469, 3.6727, 3.6933, 3.6498, 3.7082, 3.7410, 3.6761, 3.8330, 3.8056, 3.8578,\n",
    "            4.0807, 4.0717, 4.1164, 3.7095, 3.7507, 3.6635, 3.9735, 3.9510, 3.9984, 3.7492, 3.7743, 3.7127, 4.0879, 4.0790, 4.1131,\n",
    "            4.4633, 4.4321, 4.4779, 3.9523, 3.9066, 3.9857, 4.2953, 4.2866, 4.3247, 4.3491, 4.3636, 4.3313, 4.4558, 4.4289, 4.4851,\n",
    "            3.9958, 3.9641, 4.0015, 3.6184, 3.6291, 3.6091, 3.8506, 3.8440, 3.8246, 3.7288, 3.7585, 3.6959, 3.9914, 3.9688, 4.0100]\n",
    "df = pd.DataFrame({'Code_Size': code_size,\n",
    "                   'Processors': np.repeat(['W', 'X', 'Y', 'Z'], 15),\n",
    "                   'Workloads': np.r_[np.repeat(['I', 'J', 'K', 'L', 'W'],3),\n",
    "                                      np.repeat(['I', 'J', 'K', 'L', 'W'],3),\n",
    "                                      np.repeat(['I', 'J', 'K', 'L', 'W'],3),\n",
    "                                      np.repeat(['I', 'J', 'K', 'L', 'W'],3)]})\n"
   ]
  },
  {
   "cell_type": "code",
   "execution_count": 164,
   "metadata": {},
   "outputs": [],
   "source": [
    "# rp.summary_cont(df.groupby(['Processors', 'Workloads']))['Code_Size']"
   ]
  },
  {
   "cell_type": "code",
   "execution_count": 165,
   "metadata": {},
   "outputs": [
    {
     "name": "stdout",
     "output_type": "stream",
     "text": [
      "Overall model F( 19, 40) =  318.779, p =  0.0000\n"
     ]
    }
   ],
   "source": [
    "model = ols('Code_Size ~ C(Processors)*C(Workloads)', df).fit()\n",
    "\n",
    "# Seeing if the overall model is significant\n",
    "print(f\"Overall model F({model.df_model: .0f},{model.df_resid: .0f}) = {model.fvalue: .3f}, p = {model.f_pvalue: .4f}\")"
   ]
  },
  {
   "cell_type": "code",
   "execution_count": 166,
   "metadata": {},
   "outputs": [
    {
     "data": {
      "text/html": [
       "<table class=\"simpletable\">\n",
       "<caption>OLS Regression Results</caption>\n",
       "<tr>\n",
       "  <th>Dep. Variable:</th>        <td>Code_Size</td>    <th>  R-squared:         </th> <td>   0.993</td>\n",
       "</tr>\n",
       "<tr>\n",
       "  <th>Model:</th>                   <td>OLS</td>       <th>  Adj. R-squared:    </th> <td>   0.990</td>\n",
       "</tr>\n",
       "<tr>\n",
       "  <th>Method:</th>             <td>Least Squares</td>  <th>  F-statistic:       </th> <td>   318.8</td>\n",
       "</tr>\n",
       "<tr>\n",
       "  <th>Date:</th>             <td>Sat, 16 Dec 2023</td> <th>  Prob (F-statistic):</th> <td>1.17e-37</td>\n",
       "</tr>\n",
       "<tr>\n",
       "  <th>Time:</th>                 <td>21:06:12</td>     <th>  Log-Likelihood:    </th> <td>  143.76</td>\n",
       "</tr>\n",
       "<tr>\n",
       "  <th>No. Observations:</th>      <td>    60</td>      <th>  AIC:               </th> <td>  -247.5</td>\n",
       "</tr>\n",
       "<tr>\n",
       "  <th>Df Residuals:</th>          <td>    40</td>      <th>  BIC:               </th> <td>  -205.6</td>\n",
       "</tr>\n",
       "<tr>\n",
       "  <th>Df Model:</th>              <td>    19</td>      <th>                     </th>     <td> </td>   \n",
       "</tr>\n",
       "<tr>\n",
       "  <th>Covariance Type:</th>      <td>nonrobust</td>    <th>                     </th>     <td> </td>   \n",
       "</tr>\n",
       "</table>\n",
       "<table class=\"simpletable\">\n",
       "<tr>\n",
       "                    <td></td>                      <th>coef</th>     <th>std err</th>      <th>t</th>      <th>P>|t|</th>  <th>[0.025</th>    <th>0.975]</th>  \n",
       "</tr>\n",
       "<tr>\n",
       "  <th>Intercept</th>                            <td>    3.8427</td> <td>    0.016</td> <td>  246.591</td> <td> 0.000</td> <td>    3.811</td> <td>    3.874</td>\n",
       "</tr>\n",
       "<tr>\n",
       "  <th>C(Processors)[T.X]</th>                   <td>    0.2469</td> <td>    0.022</td> <td>   11.205</td> <td> 0.000</td> <td>    0.202</td> <td>    0.291</td>\n",
       "</tr>\n",
       "<tr>\n",
       "  <th>C(Processors)[T.Y]</th>                   <td>    0.6151</td> <td>    0.022</td> <td>   27.911</td> <td> 0.000</td> <td>    0.571</td> <td>    0.660</td>\n",
       "</tr>\n",
       "<tr>\n",
       "  <th>C(Processors)[T.Z]</th>                   <td>    0.1445</td> <td>    0.022</td> <td>    6.555</td> <td> 0.000</td> <td>    0.100</td> <td>    0.189</td>\n",
       "</tr>\n",
       "<tr>\n",
       "  <th>C(Workloads)[T.J]</th>                    <td>   -0.3384</td> <td>    0.022</td> <td>  -15.355</td> <td> 0.000</td> <td>   -0.383</td> <td>   -0.294</td>\n",
       "</tr>\n",
       "<tr>\n",
       "  <th>C(Workloads)[T.K]</th>                    <td>   -0.1707</td> <td>    0.022</td> <td>   -7.747</td> <td> 0.000</td> <td>   -0.215</td> <td>   -0.126</td>\n",
       "</tr>\n",
       "<tr>\n",
       "  <th>C(Workloads)[T.L]</th>                    <td>   -0.1342</td> <td>    0.022</td> <td>   -6.091</td> <td> 0.000</td> <td>   -0.179</td> <td>   -0.090</td>\n",
       "</tr>\n",
       "<tr>\n",
       "  <th>C(Workloads)[T.W]</th>                    <td>   -0.0105</td> <td>    0.022</td> <td>   -0.478</td> <td> 0.635</td> <td>   -0.055</td> <td>    0.034</td>\n",
       "</tr>\n",
       "<tr>\n",
       "  <th>C(Processors)[T.X]:C(Workloads)[T.J]</th> <td>   -0.0433</td> <td>    0.031</td> <td>   -1.389</td> <td> 0.172</td> <td>   -0.106</td> <td>    0.020</td>\n",
       "</tr>\n",
       "<tr>\n",
       "  <th>C(Processors)[T.Y]:C(Workloads)[T.J]</th> <td>   -0.1712</td> <td>    0.031</td> <td>   -5.492</td> <td> 0.000</td> <td>   -0.234</td> <td>   -0.108</td>\n",
       "</tr>\n",
       "<tr>\n",
       "  <th>C(Processors)[T.Z]:C(Workloads)[T.J]</th> <td>   -0.0299</td> <td>    0.031</td> <td>   -0.958</td> <td> 0.344</td> <td>   -0.093</td> <td>    0.033</td>\n",
       "</tr>\n",
       "<tr>\n",
       "  <th>C(Processors)[T.X]:C(Workloads)[T.K]</th> <td>    0.0554</td> <td>    0.031</td> <td>    1.779</td> <td> 0.083</td> <td>   -0.008</td> <td>    0.118</td>\n",
       "</tr>\n",
       "<tr>\n",
       "  <th>C(Processors)[T.Y]:C(Workloads)[T.K]</th> <td>    0.0152</td> <td>    0.031</td> <td>    0.487</td> <td> 0.629</td> <td>   -0.048</td> <td>    0.078</td>\n",
       "</tr>\n",
       "<tr>\n",
       "  <th>C(Processors)[T.Z]:C(Workloads)[T.K]</th> <td>    0.0233</td> <td>    0.031</td> <td>    0.749</td> <td> 0.458</td> <td>   -0.040</td> <td>    0.086</td>\n",
       "</tr>\n",
       "<tr>\n",
       "  <th>C(Processors)[T.X]:C(Workloads)[T.L]</th> <td>   -0.2100</td> <td>    0.031</td> <td>   -6.737</td> <td> 0.000</td> <td>   -0.273</td> <td>   -0.147</td>\n",
       "</tr>\n",
       "<tr>\n",
       "  <th>C(Processors)[T.Y]:C(Workloads)[T.L]</th> <td>    0.0245</td> <td>    0.031</td> <td>    0.785</td> <td> 0.437</td> <td>   -0.039</td> <td>    0.087</td>\n",
       "</tr>\n",
       "<tr>\n",
       "  <th>C(Processors)[T.Z]:C(Workloads)[T.L]</th> <td>   -0.1252</td> <td>    0.031</td> <td>   -4.016</td> <td> 0.000</td> <td>   -0.188</td> <td>   -0.062</td>\n",
       "</tr>\n",
       "<tr>\n",
       "  <th>C(Processors)[T.X]:C(Workloads)[T.W]</th> <td>    0.0143</td> <td>    0.031</td> <td>    0.458</td> <td> 0.650</td> <td>   -0.049</td> <td>    0.077</td>\n",
       "</tr>\n",
       "<tr>\n",
       "  <th>C(Processors)[T.Y]:C(Workloads)[T.W]</th> <td>    0.0094</td> <td>    0.031</td> <td>    0.301</td> <td> 0.765</td> <td>   -0.054</td> <td>    0.072</td>\n",
       "</tr>\n",
       "<tr>\n",
       "  <th>C(Processors)[T.Z]:C(Workloads)[T.W]</th> <td>    0.0135</td> <td>    0.031</td> <td>    0.432</td> <td> 0.668</td> <td>   -0.050</td> <td>    0.076</td>\n",
       "</tr>\n",
       "</table>\n",
       "<table class=\"simpletable\">\n",
       "<tr>\n",
       "  <th>Omnibus:</th>       <td> 2.384</td> <th>  Durbin-Watson:     </th> <td>   2.945</td>\n",
       "</tr>\n",
       "<tr>\n",
       "  <th>Prob(Omnibus):</th> <td> 0.304</td> <th>  Jarque-Bera (JB):  </th> <td>   1.481</td>\n",
       "</tr>\n",
       "<tr>\n",
       "  <th>Skew:</th>          <td>-0.082</td> <th>  Prob(JB):          </th> <td>   0.477</td>\n",
       "</tr>\n",
       "<tr>\n",
       "  <th>Kurtosis:</th>      <td> 2.248</td> <th>  Cond. No.          </th> <td>    27.9</td>\n",
       "</tr>\n",
       "</table><br/><br/>Notes:<br/>[1] Standard Errors assume that the covariance matrix of the errors is correctly specified."
      ],
      "text/latex": [
       "\\begin{center}\n",
       "\\begin{tabular}{lclc}\n",
       "\\toprule\n",
       "\\textbf{Dep. Variable:}                       &    Code\\_Size    & \\textbf{  R-squared:         } &     0.993   \\\\\n",
       "\\textbf{Model:}                               &       OLS        & \\textbf{  Adj. R-squared:    } &     0.990   \\\\\n",
       "\\textbf{Method:}                              &  Least Squares   & \\textbf{  F-statistic:       } &     318.8   \\\\\n",
       "\\textbf{Date:}                                & Sat, 16 Dec 2023 & \\textbf{  Prob (F-statistic):} &  1.17e-37   \\\\\n",
       "\\textbf{Time:}                                &     21:06:12     & \\textbf{  Log-Likelihood:    } &    143.76   \\\\\n",
       "\\textbf{No. Observations:}                    &          60      & \\textbf{  AIC:               } &    -247.5   \\\\\n",
       "\\textbf{Df Residuals:}                        &          40      & \\textbf{  BIC:               } &    -205.6   \\\\\n",
       "\\textbf{Df Model:}                            &          19      & \\textbf{                     } &             \\\\\n",
       "\\textbf{Covariance Type:}                     &    nonrobust     & \\textbf{                     } &             \\\\\n",
       "\\bottomrule\n",
       "\\end{tabular}\n",
       "\\begin{tabular}{lcccccc}\n",
       "                                              & \\textbf{coef} & \\textbf{std err} & \\textbf{t} & \\textbf{P$> |$t$|$} & \\textbf{[0.025} & \\textbf{0.975]}  \\\\\n",
       "\\midrule\n",
       "\\textbf{Intercept}                            &       3.8427  &        0.016     &   246.591  &         0.000        &        3.811    &        3.874     \\\\\n",
       "\\textbf{C(Processors)[T.X]}                   &       0.2469  &        0.022     &    11.205  &         0.000        &        0.202    &        0.291     \\\\\n",
       "\\textbf{C(Processors)[T.Y]}                   &       0.6151  &        0.022     &    27.911  &         0.000        &        0.571    &        0.660     \\\\\n",
       "\\textbf{C(Processors)[T.Z]}                   &       0.1445  &        0.022     &     6.555  &         0.000        &        0.100    &        0.189     \\\\\n",
       "\\textbf{C(Workloads)[T.J]}                    &      -0.3384  &        0.022     &   -15.355  &         0.000        &       -0.383    &       -0.294     \\\\\n",
       "\\textbf{C(Workloads)[T.K]}                    &      -0.1707  &        0.022     &    -7.747  &         0.000        &       -0.215    &       -0.126     \\\\\n",
       "\\textbf{C(Workloads)[T.L]}                    &      -0.1342  &        0.022     &    -6.091  &         0.000        &       -0.179    &       -0.090     \\\\\n",
       "\\textbf{C(Workloads)[T.W]}                    &      -0.0105  &        0.022     &    -0.478  &         0.635        &       -0.055    &        0.034     \\\\\n",
       "\\textbf{C(Processors)[T.X]:C(Workloads)[T.J]} &      -0.0433  &        0.031     &    -1.389  &         0.172        &       -0.106    &        0.020     \\\\\n",
       "\\textbf{C(Processors)[T.Y]:C(Workloads)[T.J]} &      -0.1712  &        0.031     &    -5.492  &         0.000        &       -0.234    &       -0.108     \\\\\n",
       "\\textbf{C(Processors)[T.Z]:C(Workloads)[T.J]} &      -0.0299  &        0.031     &    -0.958  &         0.344        &       -0.093    &        0.033     \\\\\n",
       "\\textbf{C(Processors)[T.X]:C(Workloads)[T.K]} &       0.0554  &        0.031     &     1.779  &         0.083        &       -0.008    &        0.118     \\\\\n",
       "\\textbf{C(Processors)[T.Y]:C(Workloads)[T.K]} &       0.0152  &        0.031     &     0.487  &         0.629        &       -0.048    &        0.078     \\\\\n",
       "\\textbf{C(Processors)[T.Z]:C(Workloads)[T.K]} &       0.0233  &        0.031     &     0.749  &         0.458        &       -0.040    &        0.086     \\\\\n",
       "\\textbf{C(Processors)[T.X]:C(Workloads)[T.L]} &      -0.2100  &        0.031     &    -6.737  &         0.000        &       -0.273    &       -0.147     \\\\\n",
       "\\textbf{C(Processors)[T.Y]:C(Workloads)[T.L]} &       0.0245  &        0.031     &     0.785  &         0.437        &       -0.039    &        0.087     \\\\\n",
       "\\textbf{C(Processors)[T.Z]:C(Workloads)[T.L]} &      -0.1252  &        0.031     &    -4.016  &         0.000        &       -0.188    &       -0.062     \\\\\n",
       "\\textbf{C(Processors)[T.X]:C(Workloads)[T.W]} &       0.0143  &        0.031     &     0.458  &         0.650        &       -0.049    &        0.077     \\\\\n",
       "\\textbf{C(Processors)[T.Y]:C(Workloads)[T.W]} &       0.0094  &        0.031     &     0.301  &         0.765        &       -0.054    &        0.072     \\\\\n",
       "\\textbf{C(Processors)[T.Z]:C(Workloads)[T.W]} &       0.0135  &        0.031     &     0.432  &         0.668        &       -0.050    &        0.076     \\\\\n",
       "\\bottomrule\n",
       "\\end{tabular}\n",
       "\\begin{tabular}{lclc}\n",
       "\\textbf{Omnibus:}       &  2.384 & \\textbf{  Durbin-Watson:     } &    2.945  \\\\\n",
       "\\textbf{Prob(Omnibus):} &  0.304 & \\textbf{  Jarque-Bera (JB):  } &    1.481  \\\\\n",
       "\\textbf{Skew:}          & -0.082 & \\textbf{  Prob(JB):          } &    0.477  \\\\\n",
       "\\textbf{Kurtosis:}      &  2.248 & \\textbf{  Cond. No.          } &     27.9  \\\\\n",
       "\\bottomrule\n",
       "\\end{tabular}\n",
       "%\\caption{OLS Regression Results}\n",
       "\\end{center}\n",
       "\n",
       "Notes: \\newline\n",
       " [1] Standard Errors assume that the covariance matrix of the errors is correctly specified."
      ],
      "text/plain": [
       "<class 'statsmodels.iolib.summary.Summary'>\n",
       "\"\"\"\n",
       "                            OLS Regression Results                            \n",
       "==============================================================================\n",
       "Dep. Variable:              Code_Size   R-squared:                       0.993\n",
       "Model:                            OLS   Adj. R-squared:                  0.990\n",
       "Method:                 Least Squares   F-statistic:                     318.8\n",
       "Date:                Sat, 16 Dec 2023   Prob (F-statistic):           1.17e-37\n",
       "Time:                        21:06:12   Log-Likelihood:                 143.76\n",
       "No. Observations:                  60   AIC:                            -247.5\n",
       "Df Residuals:                      40   BIC:                            -205.6\n",
       "Df Model:                          19                                         \n",
       "Covariance Type:            nonrobust                                         \n",
       "========================================================================================================\n",
       "                                           coef    std err          t      P>|t|      [0.025      0.975]\n",
       "--------------------------------------------------------------------------------------------------------\n",
       "Intercept                                3.8427      0.016    246.591      0.000       3.811       3.874\n",
       "C(Processors)[T.X]                       0.2469      0.022     11.205      0.000       0.202       0.291\n",
       "C(Processors)[T.Y]                       0.6151      0.022     27.911      0.000       0.571       0.660\n",
       "C(Processors)[T.Z]                       0.1445      0.022      6.555      0.000       0.100       0.189\n",
       "C(Workloads)[T.J]                       -0.3384      0.022    -15.355      0.000      -0.383      -0.294\n",
       "C(Workloads)[T.K]                       -0.1707      0.022     -7.747      0.000      -0.215      -0.126\n",
       "C(Workloads)[T.L]                       -0.1342      0.022     -6.091      0.000      -0.179      -0.090\n",
       "C(Workloads)[T.W]                       -0.0105      0.022     -0.478      0.635      -0.055       0.034\n",
       "C(Processors)[T.X]:C(Workloads)[T.J]    -0.0433      0.031     -1.389      0.172      -0.106       0.020\n",
       "C(Processors)[T.Y]:C(Workloads)[T.J]    -0.1712      0.031     -5.492      0.000      -0.234      -0.108\n",
       "C(Processors)[T.Z]:C(Workloads)[T.J]    -0.0299      0.031     -0.958      0.344      -0.093       0.033\n",
       "C(Processors)[T.X]:C(Workloads)[T.K]     0.0554      0.031      1.779      0.083      -0.008       0.118\n",
       "C(Processors)[T.Y]:C(Workloads)[T.K]     0.0152      0.031      0.487      0.629      -0.048       0.078\n",
       "C(Processors)[T.Z]:C(Workloads)[T.K]     0.0233      0.031      0.749      0.458      -0.040       0.086\n",
       "C(Processors)[T.X]:C(Workloads)[T.L]    -0.2100      0.031     -6.737      0.000      -0.273      -0.147\n",
       "C(Processors)[T.Y]:C(Workloads)[T.L]     0.0245      0.031      0.785      0.437      -0.039       0.087\n",
       "C(Processors)[T.Z]:C(Workloads)[T.L]    -0.1252      0.031     -4.016      0.000      -0.188      -0.062\n",
       "C(Processors)[T.X]:C(Workloads)[T.W]     0.0143      0.031      0.458      0.650      -0.049       0.077\n",
       "C(Processors)[T.Y]:C(Workloads)[T.W]     0.0094      0.031      0.301      0.765      -0.054       0.072\n",
       "C(Processors)[T.Z]:C(Workloads)[T.W]     0.0135      0.031      0.432      0.668      -0.050       0.076\n",
       "==============================================================================\n",
       "Omnibus:                        2.384   Durbin-Watson:                   2.945\n",
       "Prob(Omnibus):                  0.304   Jarque-Bera (JB):                1.481\n",
       "Skew:                          -0.082   Prob(JB):                        0.477\n",
       "Kurtosis:                       2.248   Cond. No.                         27.9\n",
       "==============================================================================\n",
       "\n",
       "Notes:\n",
       "[1] Standard Errors assume that the covariance matrix of the errors is correctly specified.\n",
       "\"\"\""
      ]
     },
     "execution_count": 166,
     "metadata": {},
     "output_type": "execute_result"
    }
   ],
   "source": [
    "model.summary()"
   ]
  },
  {
   "cell_type": "code",
   "execution_count": 167,
   "metadata": {},
   "outputs": [
    {
     "data": {
      "text/html": [
       "<div>\n",
       "<style scoped>\n",
       "    .dataframe tbody tr th:only-of-type {\n",
       "        vertical-align: middle;\n",
       "    }\n",
       "\n",
       "    .dataframe tbody tr th {\n",
       "        vertical-align: top;\n",
       "    }\n",
       "\n",
       "    .dataframe thead th {\n",
       "        text-align: right;\n",
       "    }\n",
       "</style>\n",
       "<table border=\"1\" class=\"dataframe\">\n",
       "  <thead>\n",
       "    <tr style=\"text-align: right;\">\n",
       "      <th></th>\n",
       "      <th>sum_sq</th>\n",
       "      <th>df</th>\n",
       "      <th>F</th>\n",
       "      <th>PR(&gt;F)</th>\n",
       "    </tr>\n",
       "  </thead>\n",
       "  <tbody>\n",
       "    <tr>\n",
       "      <th>C(Processors)</th>\n",
       "      <td>2.929369</td>\n",
       "      <td>3.0</td>\n",
       "      <td>1340.358949</td>\n",
       "      <td>3.778409e-40</td>\n",
       "    </tr>\n",
       "    <tr>\n",
       "      <th>C(Workloads)</th>\n",
       "      <td>1.328227</td>\n",
       "      <td>4.0</td>\n",
       "      <td>455.806817</td>\n",
       "      <td>8.894693e-33</td>\n",
       "    </tr>\n",
       "    <tr>\n",
       "      <th>C(Processors):C(Workloads)</th>\n",
       "      <td>0.154801</td>\n",
       "      <td>12.0</td>\n",
       "      <td>17.707660</td>\n",
       "      <td>2.326800e-12</td>\n",
       "    </tr>\n",
       "    <tr>\n",
       "      <th>Residual</th>\n",
       "      <td>0.029140</td>\n",
       "      <td>40.0</td>\n",
       "      <td>NaN</td>\n",
       "      <td>NaN</td>\n",
       "    </tr>\n",
       "  </tbody>\n",
       "</table>\n",
       "</div>"
      ],
      "text/plain": [
       "                              sum_sq    df            F        PR(>F)\n",
       "C(Processors)               2.929369   3.0  1340.358949  3.778409e-40\n",
       "C(Workloads)                1.328227   4.0   455.806817  8.894693e-33\n",
       "C(Processors):C(Workloads)  0.154801  12.0    17.707660  2.326800e-12\n",
       "Residual                    0.029140  40.0          NaN           NaN"
      ]
     },
     "execution_count": 167,
     "metadata": {},
     "output_type": "execute_result"
    }
   ],
   "source": [
    "res = sm.stats.anova_lm(model, typ= 2)\n",
    "res"
   ]
  }
 ],
 "metadata": {
  "kernelspec": {
   "display_name": ".venv",
   "language": "python",
   "name": "python3"
  },
  "language_info": {
   "codemirror_mode": {
    "name": "ipython",
    "version": 3
   },
   "file_extension": ".py",
   "mimetype": "text/x-python",
   "name": "python",
   "nbconvert_exporter": "python",
   "pygments_lexer": "ipython3",
   "version": "3.9.18"
  }
 },
 "nbformat": 4,
 "nbformat_minor": 2
}
